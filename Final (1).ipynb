{
 "cells": [
  {
   "cell_type": "code",
   "execution_count": 35,
   "metadata": {},
   "outputs": [],
   "source": [
    "import sys\n",
    "sys.path.extend(['/Users/ayush.shu/.pyenv/versions/3.7.2/lib/python3.7/site-packages/','/usr/local/lib/python3.7/site-packages'])"
   ]
  },
  {
   "cell_type": "code",
   "execution_count": 36,
   "metadata": {},
   "outputs": [],
   "source": [
    "import requests\n",
    "from bs4 import BeautifulSoup\n",
    "import re\n",
    "import pandas as pd"
   ]
  },
  {
   "cell_type": "code",
   "execution_count": 37,
   "metadata": {},
   "outputs": [],
   "source": [
    "with requests.Session() as s:\n",
    "    URL = 'https://www.sanfoundry.com/operating-system-questions-answers/'\n",
    "    p = s.get(URL)\n",
    "    htmlcontent=p.content"
   ]
  },
  {
   "cell_type": "code",
   "execution_count": 38,
   "metadata": {},
   "outputs": [],
   "source": [
    "soup = BeautifulSoup(htmlcontent, 'html.parser')"
   ]
  },
  {
   "cell_type": "code",
   "execution_count": 39,
   "metadata": {},
   "outputs": [],
   "source": [
    "a_links = []"
   ]
  },
  {
   "cell_type": "code",
   "execution_count": 40,
   "metadata": {},
   "outputs": [],
   "source": [
    "for link in soup.find_all(class_='entry-content'):\n",
    "    all_links = link.find_all('li')\n",
    "    for sub_link in all_links:\n",
    "        #l1_cat = subcat_soup.string\n",
    "        l1_link = sub_link.find('a').get('href')\n",
    "        a_links.append(l1_link)"
   ]
  },
  {
   "cell_type": "code",
   "execution_count": 41,
   "metadata": {},
   "outputs": [
    {
     "data": {
      "text/plain": [
       "['https://www.sanfoundry.com/operating-system-questions-answers-basics/',\n",
       " 'https://www.sanfoundry.com/operating-system-questions-answers-processes/',\n",
       " 'https://www.sanfoundry.com/operating-system-mcqs-process-control-block/',\n",
       " 'https://www.sanfoundry.com/operating-system-mcqs-process-scheduling-queue/',\n",
       " 'https://www.sanfoundry.com/operating-system-questions-answers-process-synchronization/',\n",
       " 'https://www.sanfoundry.com/operating-system-mcqs-process-creation/',\n",
       " 'https://www.sanfoundry.com/operating-system-mcqs-inter-process-communication/',\n",
       " 'https://www.sanfoundry.com/operating-system-mcqs-process-rpc/',\n",
       " 'https://www.sanfoundry.com/operating-system-mcqs-process-structures/',\n",
       " 'https://www.sanfoundry.com/operating-system-questions-answers-cpu-scheduling/',\n",
       " 'https://www.sanfoundry.com/operating-system-mcqs-cpu-scheduling-benefits/',\n",
       " 'https://www.sanfoundry.com/operating-system-mcqs-cpu-scheduling-algorithms-1/',\n",
       " 'https://www.sanfoundry.com/operating-system-mcqs-cpu-scheduling-algorithms-2/',\n",
       " 'https://www.sanfoundry.com/operating-system-mcqs-critical-section-problem/',\n",
       " 'https://www.sanfoundry.com/operating-system-mcqs-semaphores-1/',\n",
       " 'https://www.sanfoundry.com/operating-system-mcqs-semaphores-2/',\n",
       " 'https://www.sanfoundry.com/operating-system-mcqs-classic-sync-problems/',\n",
       " 'https://www.sanfoundry.com/operating-system-mcqs-process-sync-monitors/',\n",
       " 'https://www.sanfoundry.com/operating-system-mcqs-atomic-transactions/',\n",
       " 'https://www.sanfoundry.com/operating-system-questions-answers-deadlock/',\n",
       " 'https://www.sanfoundry.com/operating-system-mcqs-deadlock-prevention/',\n",
       " 'https://www.sanfoundry.com/operating-system-mcqs-deadlock-avoidance/',\n",
       " 'https://www.sanfoundry.com/operating-system-mcqs-deadlock-detection/',\n",
       " 'https://www.sanfoundry.com/operating-system-mcqs-deadlock-recovery/',\n",
       " 'https://www.sanfoundry.com/operating-system-mcqs-memory-management-swapping-1/',\n",
       " 'https://www.sanfoundry.com/operating-system-mcqs-memory-management-swapping-2/',\n",
       " 'https://www.sanfoundry.com/operating-system-questions-answers-memory-management/',\n",
       " 'https://www.sanfoundry.com/operating-system-mcqs-memory-allocation-1/',\n",
       " 'https://www.sanfoundry.com/operating-system-mcqs-memory-allocation-2/',\n",
       " 'https://www.sanfoundry.com/operating-system-mcqs-memory-management-paging-1/',\n",
       " 'https://www.sanfoundry.com/operating-system-mcqs-memory-management-paging-2/',\n",
       " 'https://www.sanfoundry.com/operating-system-mcqs-memory-management-segmentation/',\n",
       " 'https://www.sanfoundry.com/operating-system-mcqs-application-io-interface-1/',\n",
       " 'https://www.sanfoundry.com/operating-system-mcqs-application-io-interface-2/',\n",
       " 'https://www.sanfoundry.com/operating-system-mcqs-kernel-io-subsystems/',\n",
       " 'https://www.sanfoundry.com/operating-system-questions-answers-rtos/',\n",
       " 'https://www.sanfoundry.com/realtime-operating-system-mcqs-1/',\n",
       " 'https://www.sanfoundry.com/realtime-operating-system-mcqs-2/',\n",
       " 'https://www.sanfoundry.com/realtime-operating-system-mcqs-CPU-scheduling-1/',\n",
       " 'https://www.sanfoundry.com/realtime-operating-system-mcqs-CPU-scheduling-2/',\n",
       " 'https://www.sanfoundry.com/operating-system-question-answers-multimedia-systems/',\n",
       " 'https://www.sanfoundry.com/operating-system-mcqs-multimedia-system-compression-1/',\n",
       " 'https://www.sanfoundry.com/operating-system-mcqs-multimedia-system-compression-2/',\n",
       " 'https://www.sanfoundry.com/operating-system-mcqs-multimedia-system-compression-3/',\n",
       " 'https://www.sanfoundry.com/operating-system-mcqs-multimedia-system-CPU-disk-scheduling/',\n",
       " 'https://www.sanfoundry.com/operating-system-mcqs-multimedia-system-network-management/',\n",
       " 'https://www.sanfoundry.com/operating-system-mcqs-security-user-authentication/',\n",
       " 'https://www.sanfoundry.com/operating-system-mcqs-security-program-system-threats/',\n",
       " 'https://www.sanfoundry.com/operating-system-mcqs-security-system-facility/',\n",
       " 'https://www.sanfoundry.com/operating-system-mcqs-security-intrusion-detection/',\n",
       " 'https://www.sanfoundry.com/operating-system-mcqs-security-cryptography-2/',\n",
       " 'https://www.sanfoundry.com/operating-system-questions-answers-secondary-storage/',\n",
       " 'https://www.sanfoundry.com/operating-system-questions-answers-linux/',\n",
       " 'https://www.sanfoundry.com/operating-system-questions-answers-threads/',\n",
       " 'https://www.sanfoundry.com/operating-system-mcqs-threads-ult-klt/',\n",
       " 'https://www.sanfoundry.com/operating-system-mcqs-multi-threading-models/',\n",
       " 'https://www.sanfoundry.com/operating-system-mcqs-threads-fork-exec/',\n",
       " 'https://www.sanfoundry.com/operating-system-mcqs-threads-cancellation/',\n",
       " 'https://www.sanfoundry.com/operating-system-mcqs-threads-signal-handling/',\n",
       " 'https://www.sanfoundry.com/operating-system-mcqs-threads-pools/',\n",
       " 'https://www.sanfoundry.com/operating-system-questions-answers-virtual-memory/',\n",
       " 'https://www.sanfoundry.com/operating-system-mcqs-virtual-memory-demand-paging/',\n",
       " 'https://www.sanfoundry.com/operating-system-mcqs-virtual-memory-page-replacement-algorithms-1/',\n",
       " 'https://www.sanfoundry.com/operating-system-mcqs-virtual-memory-page-replacement-algorithms-2/',\n",
       " 'https://www.sanfoundry.com/operating-system-mcqs-virtual-memory-frame-allocation/',\n",
       " 'https://www.sanfoundry.com/operating-system-mcqs-virtual-memory-thrashing/',\n",
       " 'https://www.sanfoundry.com/operating-system-questions-answers-file-system-concepts/',\n",
       " 'https://www.sanfoundry.com/operating-system-questions-answers-file-system-implementation/',\n",
       " 'https://www.sanfoundry.com/operating-system-mcqs-file-system-interface-access-methods-1/',\n",
       " 'https://www.sanfoundry.com/operating-system-mcqs-file-system-interface-access-methods-2/',\n",
       " 'https://www.sanfoundry.com/operating-system-mcqs-file-system-interface-directory-structure-1/',\n",
       " 'https://www.sanfoundry.com/operating-system-mcqs-file-system-interface-directory-structure-2/',\n",
       " 'https://www.sanfoundry.com/operating-system-mcqs-file-system-interface-mounting-sharing/',\n",
       " 'https://www.sanfoundry.com/operating-system-mcqs-file-system-interface-protection/',\n",
       " 'https://www.sanfoundry.com/operating-system-mcqs-file-system-allocation-methods-1/',\n",
       " 'https://www.sanfoundry.com/operating-system-mcqs-file-system-allocation-methods-2/',\n",
       " 'https://www.sanfoundry.com/operating-system-mcqs-file-system-allocation-methods-3/',\n",
       " 'https://www.sanfoundry.com/operating-system-mcqs-file-system-free-space-performance/',\n",
       " 'https://www.sanfoundry.com/operating-system-mcqs-file-system-recovery/',\n",
       " 'https://www.sanfoundry.com/operating-system-mcqs-network-file-system-1/',\n",
       " 'https://www.sanfoundry.com/operating-system-mcqs-network-file-system-2/',\n",
       " 'https://www.sanfoundry.com/operating-system-questions-answers-io-subsystem/',\n",
       " 'https://www.sanfoundry.com/operating-system-mcqs-disk-scheduling-1/',\n",
       " 'https://www.sanfoundry.com/operating-system-mcqs-disk-scheduling-2/',\n",
       " 'https://www.sanfoundry.com/operating-system-mcqs-disk-management/',\n",
       " 'https://www.sanfoundry.com/operating-system-mcqs-swap-space-management/',\n",
       " 'https://www.sanfoundry.com/operating-system-mcqs-mass-storage-RAID-1',\n",
       " 'https://www.sanfoundry.com/operating-system-mcqs-mass-storage-RAID-2/',\n",
       " 'https://www.sanfoundry.com/operating-system-mcqs-mass-storage-tertiary-storage/',\n",
       " 'https://www.sanfoundry.com/operating-system-mcqs-protection-access-matrix/',\n",
       " 'https://www.sanfoundry.com/operating-system-questions-answers-protection-concepts/',\n",
       " 'https://www.sanfoundry.com/operating-system-questions-answers-security/',\n",
       " 'https://www.sanfoundry.com/operating-system-mcqs-protection-memory-protection/',\n",
       " 'https://www.sanfoundry.com/operating-system-mcqs-protection-revocation-access-rights/',\n",
       " 'https://www.sanfoundry.com/operating-system-questions-answers-distributed-operating-system/',\n",
       " 'https://www.sanfoundry.com/distributed-operating-system-mcqs-types-resource-sharing/',\n",
       " 'https://www.sanfoundry.com/distributed-operating-system-mcqs-network-structure-topology/',\n",
       " 'https://www.sanfoundry.com/distributed-operating-system-mcqs-robustness/',\n",
       " 'https://www.sanfoundry.com/distributed-operating-system-mcqs-file-system-1/',\n",
       " 'https://www.sanfoundry.com/distributed-operating-system-mcqs-file-system-2/',\n",
       " 'https://www.sanfoundry.com/operating-system-questions-answers-distributed-file-system/',\n",
       " 'https://www.sanfoundry.com/distributed-opererating-system-mcqs-coordination/',\n",
       " 'https://www.sanfoundry.com/operating-system-questions-answers-distributed-synchronization/']"
      ]
     },
     "execution_count": 41,
     "metadata": {},
     "output_type": "execute_result"
    }
   ],
   "source": [
    " a_links[15:]"
   ]
  },
  {
   "cell_type": "code",
   "execution_count": 42,
   "metadata": {},
   "outputs": [],
   "source": [
    "questions_array = []\n",
    "for link in a_links[15:118]:\n",
    "    with requests.Session() as s:\n",
    "        URL = link\n",
    "        #print(URL)\n",
    "        p = s.get(URL)\n",
    "        htmlcontent=p.content\n",
    "        soup = BeautifulSoup(htmlcontent, 'html.parser')\n",
    "        #print(soup, \"\\n\\n\\n\\n\\n\\n\")\n",
    "        questions = soup.find_all(class_='entry-content')\n",
    "        title = str(soup.find_all(class_='entry-title'))\n",
    "        topic = title.split(\"\\\"headline\\\">\")[1].split(\"</h1>\")[0]\n",
    "        all_questions = re.split('[0-9]+\\.', str(questions))[1:]\n",
    "        for i in range(0,len(all_questions)-1):\n",
    "            b = re.split('a+\\)|b+\\)|c+\\)|d+\\)|Answer:|Explanation:', all_questions[i])\n",
    "            b.append(topic)\n",
    "            if len(b) == 8:\n",
    "                b[4] = b[4].partition('<span')[0]\n",
    "                b[6] = b[6].partition('</div>')[0]\n",
    "                questions_array.append(b)"
   ]
  },
  {
   "cell_type": "code",
   "execution_count": 43,
   "metadata": {
    "scrolled": true
   },
   "outputs": [],
   "source": [
    "#questions_array"
   ]
  },
  {
   "cell_type": "code",
   "execution_count": 50,
   "metadata": {
    "scrolled": true
   },
   "outputs": [
    {
     "data": {
      "text/html": [
       "<div>\n",
       "<style scoped>\n",
       "    .dataframe tbody tr th:only-of-type {\n",
       "        vertical-align: middle;\n",
       "    }\n",
       "\n",
       "    .dataframe tbody tr th {\n",
       "        vertical-align: top;\n",
       "    }\n",
       "\n",
       "    .dataframe thead th {\n",
       "        text-align: right;\n",
       "    }\n",
       "</style>\n",
       "<table border=\"1\" class=\"dataframe\">\n",
       "  <thead>\n",
       "    <tr style=\"text-align: right;\">\n",
       "      <th></th>\n",
       "      <th>Questions</th>\n",
       "      <th>Option-A</th>\n",
       "      <th>Option-B</th>\n",
       "      <th>Option-C</th>\n",
       "      <th>Option-D</th>\n",
       "      <th>Answer</th>\n",
       "      <th>Explanation</th>\n",
       "      <th>Topic</th>\n",
       "    </tr>\n",
       "  </thead>\n",
       "  <tbody>\n",
       "    <tr>\n",
       "      <th>0</th>\n",
       "      <td>What is an operating system?&lt;br/&gt;\\n</td>\n",
       "      <td>collection of programs that manages hardware ...</td>\n",
       "      <td>system service provider to the application pr...</td>\n",
       "      <td>interface between the hardware and applicatio...</td>\n",
       "      <td>all of the mentioned&lt;br/&gt;\\n</td>\n",
       "      <td>d&lt;br/&gt;\\n</td>\n",
       "      <td>An Operating System acts as an intermediary b...</td>\n",
       "      <td>Operating System Questions &amp;amp; Answers – Basics</td>\n",
       "    </tr>\n",
       "    <tr>\n",
       "      <th>1</th>\n",
       "      <td>To access the services of operating system, t...</td>\n",
       "      <td>System calls&lt;br/&gt;\\n</td>\n",
       "      <td>API&lt;br/&gt;\\n</td>\n",
       "      <td>Library&lt;br/&gt;\\n</td>\n",
       "      <td>Assembly instructions&lt;br/&gt;\\n</td>\n",
       "      <td>a&lt;br/&gt;\\n</td>\n",
       "      <td>To access services of the Operating System an...</td>\n",
       "      <td>Operating System Questions &amp;amp; Answers – Basics</td>\n",
       "    </tr>\n",
       "    <tr>\n",
       "      <th>2</th>\n",
       "      <td>Which one of the following is not true?&lt;br/&gt;\\n</td>\n",
       "      <td>kernel is the program that constitutes the ce...</td>\n",
       "      <td>kernel is the first part of operating system ...</td>\n",
       "      <td>kernel is made of various modules which can n...</td>\n",
       "      <td>kernel remains in the memory during the entir...</td>\n",
       "      <td>c&lt;br/&gt;\\n</td>\n",
       "      <td>Kernel is the first program which is loaded i...</td>\n",
       "      <td>Operating System Questions &amp;amp; Answers – Basics</td>\n",
       "    </tr>\n",
       "    <tr>\n",
       "      <th>3</th>\n",
       "      <td>Which one of the following error will be hand...</td>\n",
       "      <td>power failure&lt;br/&gt;\\n</td>\n",
       "      <td>lack of paper in printer&lt;br/&gt;\\n</td>\n",
       "      <td>connection failure in the network&lt;br/&gt;\\n</td>\n",
       "      <td>all of the mentioned&lt;br/&gt;\\n</td>\n",
       "      <td>d&lt;br/&gt;\\n</td>\n",
       "      <td>All the mentioned errors are handled by OS. T...</td>\n",
       "      <td>Operating System Questions &amp;amp; Answers – Basics</td>\n",
       "    </tr>\n",
       "    <tr>\n",
       "      <th>4</th>\n",
       "      <td>What is the main function of the command inte...</td>\n",
       "      <td>to get and execute the next user-specified co...</td>\n",
       "      <td>to provide the interface between the API and ...</td>\n",
       "      <td>to handle the files in operating system&lt;br/&gt;\\n</td>\n",
       "      <td>none of the mentioned&lt;br/&gt;\\n</td>\n",
       "      <td>a&lt;br/&gt;\\n</td>\n",
       "      <td>The main function of command interpreter is t...</td>\n",
       "      <td>Operating System Questions &amp;amp; Answers – Basics</td>\n",
       "    </tr>\n",
       "    <tr>\n",
       "      <th>...</th>\n",
       "      <td>...</td>\n",
       "      <td>...</td>\n",
       "      <td>...</td>\n",
       "      <td>...</td>\n",
       "      <td>...</td>\n",
       "      <td>...</td>\n",
       "      <td>...</td>\n",
       "      <td>...</td>\n",
       "    </tr>\n",
       "    <tr>\n",
       "      <th>95</th>\n",
       "      <td>The switching of the CPU from one process or ...</td>\n",
       "      <td>process switch&lt;br/&gt;\\n</td>\n",
       "      <td>task switch&lt;br/&gt;\\n</td>\n",
       "      <td>context switch&lt;br/&gt;\\n</td>\n",
       "      <td>all of the mentioned&lt;br/&gt;\\n</td>\n",
       "      <td>d&lt;br/&gt;\\n</td>\n",
       "      <td>None.</td>\n",
       "      <td>Operating System Questions and Answers – CPU S...</td>\n",
       "    </tr>\n",
       "    <tr>\n",
       "      <th>96</th>\n",
       "      <td>What is Dispatch latency?&lt;br/&gt;\\n</td>\n",
       "      <td>the speed of dispatching a process from runni...</td>\n",
       "      <td>the time of dispatching a process from runnin...</td>\n",
       "      <td>the time to stop one process and start runnin...</td>\n",
       "      <td>none of the mentioned&lt;br/&gt;\\n</td>\n",
       "      <td>c&lt;br/&gt;\\n</td>\n",
       "      <td>None.</td>\n",
       "      <td>Operating System Questions and Answers – CPU S...</td>\n",
       "    </tr>\n",
       "    <tr>\n",
       "      <th>97</th>\n",
       "      <td>Scheduling is done so as to ____________&lt;br/&gt;\\n</td>\n",
       "      <td>increase CPU utilization&lt;br/&gt;\\n</td>\n",
       "      <td>decrease CPU utilization&lt;br/&gt;\\n</td>\n",
       "      <td>keep the CPU more idle&lt;br/&gt;\\n</td>\n",
       "      <td>none of the mentioned&lt;br/&gt;\\n</td>\n",
       "      <td>a&lt;br/&gt;\\n</td>\n",
       "      <td>None.</td>\n",
       "      <td>Operating System Questions and Answers – CPU S...</td>\n",
       "    </tr>\n",
       "    <tr>\n",
       "      <th>98</th>\n",
       "      <td>Scheduling is done so as to ____________&lt;br/&gt;\\n</td>\n",
       "      <td>increase the throughput&lt;br/&gt;\\n</td>\n",
       "      <td>decrease the throughput&lt;br/&gt;\\n</td>\n",
       "      <td>increase the duration of a specific amount of...</td>\n",
       "      <td>none of the mentioned&lt;br/&gt;\\n</td>\n",
       "      <td>a&lt;br/&gt;\\n</td>\n",
       "      <td>None.</td>\n",
       "      <td>Operating System Questions and Answers – CPU S...</td>\n",
       "    </tr>\n",
       "    <tr>\n",
       "      <th>99</th>\n",
       "      <td>What is Turnaround time?&lt;br/&gt;\\n</td>\n",
       "      <td>the total waiting time for a process to finis...</td>\n",
       "      <td>the total time spent in the ready queue&lt;br/&gt;\\n</td>\n",
       "      <td>the total time spent in the running queue&lt;br/&gt;\\n</td>\n",
       "      <td>the total time from the completion till the s...</td>\n",
       "      <td>d&lt;br/&gt;\\n</td>\n",
       "      <td>None.</td>\n",
       "      <td>Operating System Questions and Answers – CPU S...</td>\n",
       "    </tr>\n",
       "  </tbody>\n",
       "</table>\n",
       "<p>100 rows × 8 columns</p>\n",
       "</div>"
      ],
      "text/plain": [
       "                                            Questions  \\\n",
       "0                 What is an operating system?<br/>\\n   \n",
       "1    To access the services of operating system, t...   \n",
       "2      Which one of the following is not true?<br/>\\n   \n",
       "3    Which one of the following error will be hand...   \n",
       "4    What is the main function of the command inte...   \n",
       "..                                                ...   \n",
       "95   The switching of the CPU from one process or ...   \n",
       "96                   What is Dispatch latency?<br/>\\n   \n",
       "97    Scheduling is done so as to ____________<br/>\\n   \n",
       "98    Scheduling is done so as to ____________<br/>\\n   \n",
       "99                    What is Turnaround time?<br/>\\n   \n",
       "\n",
       "                                             Option-A  \\\n",
       "0    collection of programs that manages hardware ...   \n",
       "1                                 System calls<br/>\\n   \n",
       "2    kernel is the program that constitutes the ce...   \n",
       "3                                power failure<br/>\\n   \n",
       "4    to get and execute the next user-specified co...   \n",
       "..                                                ...   \n",
       "95                              process switch<br/>\\n   \n",
       "96   the speed of dispatching a process from runni...   \n",
       "97                    increase CPU utilization<br/>\\n   \n",
       "98                     increase the throughput<br/>\\n   \n",
       "99   the total waiting time for a process to finis...   \n",
       "\n",
       "                                             Option-B  \\\n",
       "0    system service provider to the application pr...   \n",
       "1                                          API<br/>\\n   \n",
       "2    kernel is the first part of operating system ...   \n",
       "3                     lack of paper in printer<br/>\\n   \n",
       "4    to provide the interface between the API and ...   \n",
       "..                                                ...   \n",
       "95                                 task switch<br/>\\n   \n",
       "96   the time of dispatching a process from runnin...   \n",
       "97                    decrease CPU utilization<br/>\\n   \n",
       "98                     decrease the throughput<br/>\\n   \n",
       "99     the total time spent in the ready queue<br/>\\n   \n",
       "\n",
       "                                             Option-C  \\\n",
       "0    interface between the hardware and applicatio...   \n",
       "1                                      Library<br/>\\n   \n",
       "2    kernel is made of various modules which can n...   \n",
       "3            connection failure in the network<br/>\\n   \n",
       "4      to handle the files in operating system<br/>\\n   \n",
       "..                                                ...   \n",
       "95                              context switch<br/>\\n   \n",
       "96   the time to stop one process and start runnin...   \n",
       "97                      keep the CPU more idle<br/>\\n   \n",
       "98   increase the duration of a specific amount of...   \n",
       "99   the total time spent in the running queue<br/>\\n   \n",
       "\n",
       "                                             Option-D     Answer  \\\n",
       "0                         all of the mentioned<br/>\\n   d<br/>\\n   \n",
       "1                        Assembly instructions<br/>\\n   a<br/>\\n   \n",
       "2    kernel remains in the memory during the entir...   c<br/>\\n   \n",
       "3                         all of the mentioned<br/>\\n   d<br/>\\n   \n",
       "4                        none of the mentioned<br/>\\n   a<br/>\\n   \n",
       "..                                                ...        ...   \n",
       "95                        all of the mentioned<br/>\\n   d<br/>\\n   \n",
       "96                       none of the mentioned<br/>\\n   c<br/>\\n   \n",
       "97                       none of the mentioned<br/>\\n   a<br/>\\n   \n",
       "98                       none of the mentioned<br/>\\n   a<br/>\\n   \n",
       "99   the total time from the completion till the s...   d<br/>\\n   \n",
       "\n",
       "                                          Explanation  \\\n",
       "0    An Operating System acts as an intermediary b...   \n",
       "1    To access services of the Operating System an...   \n",
       "2    Kernel is the first program which is loaded i...   \n",
       "3    All the mentioned errors are handled by OS. T...   \n",
       "4    The main function of command interpreter is t...   \n",
       "..                                                ...   \n",
       "95                                              None.   \n",
       "96                                              None.   \n",
       "97                                              None.   \n",
       "98                                              None.   \n",
       "99                                              None.   \n",
       "\n",
       "                                                Topic  \n",
       "0   Operating System Questions &amp; Answers – Basics  \n",
       "1   Operating System Questions &amp; Answers – Basics  \n",
       "2   Operating System Questions &amp; Answers – Basics  \n",
       "3   Operating System Questions &amp; Answers – Basics  \n",
       "4   Operating System Questions &amp; Answers – Basics  \n",
       "..                                                ...  \n",
       "95  Operating System Questions and Answers – CPU S...  \n",
       "96  Operating System Questions and Answers – CPU S...  \n",
       "97  Operating System Questions and Answers – CPU S...  \n",
       "98  Operating System Questions and Answers – CPU S...  \n",
       "99  Operating System Questions and Answers – CPU S...  \n",
       "\n",
       "[100 rows x 8 columns]"
      ]
     },
     "execution_count": 50,
     "metadata": {},
     "output_type": "execute_result"
    }
   ],
   "source": [
    "df = pd.DataFrame(questions_array, columns=['Questions', 'Option-A', 'Option-B', 'Option-C', 'Option-D', 'Answer', 'Explanation','Topic'])\n",
    "df.head(100)"
   ]
  },
  {
   "cell_type": "code",
   "execution_count": 45,
   "metadata": {},
   "outputs": [
    {
     "data": {
      "text/plain": [
       "' All of the mentioned<br/>\\n'"
      ]
     },
     "execution_count": 45,
     "metadata": {},
     "output_type": "execute_result"
    }
   ],
   "source": [
    "df.iloc[993]['Option-D']"
   ]
  },
  {
   "cell_type": "code",
   "execution_count": 58,
   "metadata": {},
   "outputs": [
    {
     "ename": "AttributeError",
     "evalue": "'DataFrame' object has no attribute 'str'",
     "output_type": "error",
     "traceback": [
      "\u001b[0;31m---------------------------------------------------------------------------\u001b[0m",
      "\u001b[0;31mAttributeError\u001b[0m                            Traceback (most recent call last)",
      "\u001b[0;32m<ipython-input-58-25ac5ec75e40>\u001b[0m in \u001b[0;36m<module>\u001b[0;34m\u001b[0m\n\u001b[0;32m----> 1\u001b[0;31m \u001b[0mdf\u001b[0m\u001b[0;34m.\u001b[0m\u001b[0mstr\u001b[0m\u001b[0;34m.\u001b[0m\u001b[0mstrip\u001b[0m\u001b[0;34m(\u001b[0m\u001b[0;34m)\u001b[0m\u001b[0;34m\u001b[0m\u001b[0;34m\u001b[0m\u001b[0m\n\u001b[0m",
      "\u001b[0;32m~/opt/anaconda3/lib/python3.7/site-packages/pandas/core/generic.py\u001b[0m in \u001b[0;36m__getattr__\u001b[0;34m(self, name)\u001b[0m\n\u001b[1;32m   5139\u001b[0m             \u001b[0;32mif\u001b[0m \u001b[0mself\u001b[0m\u001b[0;34m.\u001b[0m\u001b[0m_info_axis\u001b[0m\u001b[0;34m.\u001b[0m\u001b[0m_can_hold_identifiers_and_holds_name\u001b[0m\u001b[0;34m(\u001b[0m\u001b[0mname\u001b[0m\u001b[0;34m)\u001b[0m\u001b[0;34m:\u001b[0m\u001b[0;34m\u001b[0m\u001b[0;34m\u001b[0m\u001b[0m\n\u001b[1;32m   5140\u001b[0m                 \u001b[0;32mreturn\u001b[0m \u001b[0mself\u001b[0m\u001b[0;34m[\u001b[0m\u001b[0mname\u001b[0m\u001b[0;34m]\u001b[0m\u001b[0;34m\u001b[0m\u001b[0;34m\u001b[0m\u001b[0m\n\u001b[0;32m-> 5141\u001b[0;31m             \u001b[0;32mreturn\u001b[0m \u001b[0mobject\u001b[0m\u001b[0;34m.\u001b[0m\u001b[0m__getattribute__\u001b[0m\u001b[0;34m(\u001b[0m\u001b[0mself\u001b[0m\u001b[0;34m,\u001b[0m \u001b[0mname\u001b[0m\u001b[0;34m)\u001b[0m\u001b[0;34m\u001b[0m\u001b[0;34m\u001b[0m\u001b[0m\n\u001b[0m\u001b[1;32m   5142\u001b[0m \u001b[0;34m\u001b[0m\u001b[0m\n\u001b[1;32m   5143\u001b[0m     \u001b[0;32mdef\u001b[0m \u001b[0m__setattr__\u001b[0m\u001b[0;34m(\u001b[0m\u001b[0mself\u001b[0m\u001b[0;34m,\u001b[0m \u001b[0mname\u001b[0m\u001b[0;34m:\u001b[0m \u001b[0mstr\u001b[0m\u001b[0;34m,\u001b[0m \u001b[0mvalue\u001b[0m\u001b[0;34m)\u001b[0m \u001b[0;34m->\u001b[0m \u001b[0;32mNone\u001b[0m\u001b[0;34m:\u001b[0m\u001b[0;34m\u001b[0m\u001b[0;34m\u001b[0m\u001b[0m\n",
      "\u001b[0;31mAttributeError\u001b[0m: 'DataFrame' object has no attribute 'str'"
     ]
    }
   ],
   "source": [
    "df.str.strip()"
   ]
  },
  {
   "cell_type": "code",
   "execution_count": 53,
   "metadata": {},
   "outputs": [],
   "source": [
    "df.to_excel(\"/Users/Sahil/Documents/Questions.xlsx\")"
   ]
  },
  {
   "cell_type": "code",
   "execution_count": 52,
   "metadata": {},
   "outputs": [
    {
     "data": {
      "text/plain": [
       "'/Users/prakhar/Downloads'"
      ]
     },
     "execution_count": 52,
     "metadata": {},
     "output_type": "execute_result"
    }
   ],
   "source": [
    "pwd"
   ]
  },
  {
   "cell_type": "code",
   "execution_count": null,
   "metadata": {},
   "outputs": [],
   "source": []
  },
  {
   "cell_type": "code",
   "execution_count": 96,
   "metadata": {},
   "outputs": [
    {
     "data": {
      "text/plain": [
       "' none of the mentioned<br/>\\n'"
      ]
     },
     "execution_count": 96,
     "metadata": {},
     "output_type": "execute_result"
    }
   ],
   "source": [
    "b[4].partition('<span')[0]"
   ]
  },
  {
   "cell_type": "code",
   "execution_count": null,
   "metadata": {},
   "outputs": [],
   "source": []
  },
  {
   "cell_type": "code",
   "execution_count": null,
   "metadata": {},
   "outputs": [],
   "source": []
  },
  {
   "cell_type": "code",
   "execution_count": null,
   "metadata": {},
   "outputs": [],
   "source": []
  },
  {
   "cell_type": "code",
   "execution_count": 97,
   "metadata": {},
   "outputs": [
    {
     "data": {
      "text/plain": [
       "'https://www.sanfoundry.com/operating-system-questions-answers-distributed-synchronization/'"
      ]
     },
     "execution_count": 97,
     "metadata": {},
     "output_type": "execute_result"
    }
   ],
   "source": [
    "URL"
   ]
  },
  {
   "cell_type": "code",
   "execution_count": 98,
   "metadata": {
    "scrolled": true
   },
   "outputs": [
    {
     "ename": "IndexError",
     "evalue": "list index out of range",
     "output_type": "error",
     "traceback": [
      "\u001b[1;31m---------------------------------------------------------------------------\u001b[0m",
      "\u001b[1;31mIndexError\u001b[0m                                Traceback (most recent call last)",
      "\u001b[1;32m<ipython-input-98-3f4fc5745f9c>\u001b[0m in \u001b[0;36m<module>\u001b[1;34m\u001b[0m\n\u001b[1;32m----> 1\u001b[1;33m \u001b[0msoup\u001b[0m\u001b[1;33m.\u001b[0m\u001b[0mfind_all\u001b[0m\u001b[1;33m(\u001b[0m\u001b[0mclass_\u001b[0m\u001b[1;33m=\u001b[0m\u001b[1;34m'div-home-module'\u001b[0m\u001b[1;33m)\u001b[0m\u001b[1;33m[\u001b[0m\u001b[1;36m0\u001b[0m\u001b[1;33m]\u001b[0m\u001b[1;33m.\u001b[0m\u001b[0mfind_all\u001b[0m\u001b[1;33m(\u001b[0m\u001b[1;34m'li'\u001b[0m\u001b[1;33m)\u001b[0m\u001b[1;33m[\u001b[0m\u001b[1;36m0\u001b[0m\u001b[1;33m]\u001b[0m\u001b[1;33m.\u001b[0m\u001b[0mfind\u001b[0m\u001b[1;33m(\u001b[0m\u001b[1;34m'a'\u001b[0m\u001b[1;33m)\u001b[0m\u001b[1;33m.\u001b[0m\u001b[0mget\u001b[0m\u001b[1;33m(\u001b[0m\u001b[1;34m'href'\u001b[0m\u001b[1;33m)\u001b[0m\u001b[1;33m\u001b[0m\u001b[1;33m\u001b[0m\u001b[0m\n\u001b[0m",
      "\u001b[1;31mIndexError\u001b[0m: list index out of range"
     ]
    }
   ],
   "source": [
    "soup.find_all(class_='div-home-module')[0].find_all('li')[0].find('a').get('href')"
   ]
  },
  {
   "cell_type": "code",
   "execution_count": null,
   "metadata": {},
   "outputs": [],
   "source": []
  },
  {
   "cell_type": "code",
   "execution_count": null,
   "metadata": {},
   "outputs": [],
   "source": [
    "temp = s.get('https://www.sanfoundry.com/operating-system-questions-answers-basics/')"
   ]
  },
  {
   "cell_type": "code",
   "execution_count": null,
   "metadata": {},
   "outputs": [],
   "source": []
  },
  {
   "cell_type": "code",
   "execution_count": null,
   "metadata": {},
   "outputs": [],
   "source": [
    "tsoup = BeautifulSoup(temp.text, 'html.parser')\n",
    "\n",
    "print(tsoup.prettify())"
   ]
  },
  {
   "cell_type": "code",
   "execution_count": null,
   "metadata": {},
   "outputs": [],
   "source": [
    "X=[URL + ele.get('href') for ele in tsoup.find_all(class_='mx-pager-container')[0].find_all('a')]\n",
    "X[:-1]\n",
    "[cur_topic_link]+ X[:-1]"
   ]
  },
  {
   "cell_type": "code",
   "execution_count": null,
   "metadata": {},
   "outputs": [],
   "source": [
    "len(tsoup.find_all(class_='mx-pager-container'))"
   ]
  },
  {
   "cell_type": "code",
   "execution_count": null,
   "metadata": {},
   "outputs": [],
   "source": [
    "for x in tsoup.find_all(class_='bix-div-container'):\n",
    "    print(x.find(class_='bix-td-qtxt').string)"
   ]
  },
  {
   "cell_type": "code",
   "execution_count": null,
   "metadata": {},
   "outputs": [],
   "source": [
    "for option in tsoup.find_all(class_='bix-div-container')[0].find_all(class_='bix-td-option')[1:9:2]:\n",
    "    print(option.string)"
   ]
  },
  {
   "cell_type": "code",
   "execution_count": null,
   "metadata": {},
   "outputs": [],
   "source": [
    "tsoup.find_all(class_='bix-div-container')[0].find(class_='bix-td-qtxt').string"
   ]
  },
  {
   "cell_type": "code",
   "execution_count": null,
   "metadata": {},
   "outputs": [],
   "source": [
    "import pandas as pd"
   ]
  },
  {
   "cell_type": "code",
   "execution_count": null,
   "metadata": {},
   "outputs": [],
   "source": [
    "df = pd.DataFrame(crawled,columns=['top_cat','l1_cat','cur_topic_name','question','options'])"
   ]
  },
  {
   "cell_type": "code",
   "execution_count": null,
   "metadata": {},
   "outputs": [],
   "source": [
    "df.head()"
   ]
  },
  {
   "cell_type": "code",
   "execution_count": null,
   "metadata": {},
   "outputs": [],
   "source": [
    "len(df)"
   ]
  },
  {
   "cell_type": "code",
   "execution_count": null,
   "metadata": {},
   "outputs": [],
   "source": [
    "df.to_csv('/Users/pagrawal3/Desktop/dataIndiaBix.csv')"
   ]
  },
  {
   "cell_type": "code",
   "execution_count": null,
   "metadata": {},
   "outputs": [],
   "source": [
    "try:\n",
    "    print(1/0)\n",
    "except Exception as e:\n",
    "    print('hdfhfd',e)"
   ]
  },
  {
   "cell_type": "code",
   "execution_count": null,
   "metadata": {},
   "outputs": [],
   "source": []
  },
  {
   "cell_type": "code",
   "execution_count": null,
   "metadata": {},
   "outputs": [],
   "source": []
  },
  {
   "cell_type": "code",
   "execution_count": null,
   "metadata": {},
   "outputs": [],
   "source": []
  },
  {
   "cell_type": "code",
   "execution_count": null,
   "metadata": {},
   "outputs": [],
   "source": []
  },
  {
   "cell_type": "code",
   "execution_count": null,
   "metadata": {},
   "outputs": [],
   "source": []
  },
  {
   "cell_type": "code",
   "execution_count": null,
   "metadata": {},
   "outputs": [],
   "source": []
  },
  {
   "cell_type": "code",
   "execution_count": null,
   "metadata": {},
   "outputs": [],
   "source": []
  },
  {
   "cell_type": "code",
   "execution_count": null,
   "metadata": {},
   "outputs": [],
   "source": []
  },
  {
   "cell_type": "code",
   "execution_count": null,
   "metadata": {},
   "outputs": [],
   "source": []
  },
  {
   "cell_type": "code",
   "execution_count": null,
   "metadata": {},
   "outputs": [],
   "source": []
  },
  {
   "cell_type": "code",
   "execution_count": null,
   "metadata": {},
   "outputs": [],
   "source": []
  },
  {
   "cell_type": "code",
   "execution_count": null,
   "metadata": {},
   "outputs": [],
   "source": []
  },
  {
   "cell_type": "code",
   "execution_count": null,
   "metadata": {},
   "outputs": [],
   "source": []
  },
  {
   "cell_type": "code",
   "execution_count": null,
   "metadata": {},
   "outputs": [],
   "source": []
  },
  {
   "cell_type": "code",
   "execution_count": null,
   "metadata": {},
   "outputs": [],
   "source": []
  },
  {
   "cell_type": "code",
   "execution_count": null,
   "metadata": {},
   "outputs": [],
   "source": []
  },
  {
   "cell_type": "code",
   "execution_count": null,
   "metadata": {},
   "outputs": [],
   "source": []
  },
  {
   "cell_type": "code",
   "execution_count": null,
   "metadata": {},
   "outputs": [],
   "source": []
  },
  {
   "cell_type": "code",
   "execution_count": null,
   "metadata": {},
   "outputs": [],
   "source": []
  },
  {
   "cell_type": "code",
   "execution_count": null,
   "metadata": {},
   "outputs": [],
   "source": []
  },
  {
   "cell_type": "code",
   "execution_count": null,
   "metadata": {},
   "outputs": [],
   "source": []
  },
  {
   "cell_type": "code",
   "execution_count": null,
   "metadata": {},
   "outputs": [],
   "source": []
  },
  {
   "cell_type": "code",
   "execution_count": null,
   "metadata": {},
   "outputs": [],
   "source": []
  },
  {
   "cell_type": "code",
   "execution_count": null,
   "metadata": {},
   "outputs": [],
   "source": []
  },
  {
   "cell_type": "code",
   "execution_count": null,
   "metadata": {},
   "outputs": [],
   "source": []
  },
  {
   "cell_type": "code",
   "execution_count": null,
   "metadata": {},
   "outputs": [],
   "source": []
  },
  {
   "cell_type": "code",
   "execution_count": null,
   "metadata": {},
   "outputs": [],
   "source": []
  },
  {
   "cell_type": "code",
   "execution_count": null,
   "metadata": {},
   "outputs": [],
   "source": []
  },
  {
   "cell_type": "code",
   "execution_count": null,
   "metadata": {},
   "outputs": [],
   "source": []
  },
  {
   "cell_type": "code",
   "execution_count": null,
   "metadata": {},
   "outputs": [],
   "source": []
  },
  {
   "cell_type": "code",
   "execution_count": null,
   "metadata": {},
   "outputs": [],
   "source": []
  },
  {
   "cell_type": "code",
   "execution_count": null,
   "metadata": {},
   "outputs": [],
   "source": []
  },
  {
   "cell_type": "code",
   "execution_count": null,
   "metadata": {},
   "outputs": [],
   "source": []
  }
 ],
 "metadata": {
  "kernelspec": {
   "display_name": "Python 3",
   "language": "python",
   "name": "python3"
  },
  "language_info": {
   "codemirror_mode": {
    "name": "ipython",
    "version": 3
   },
   "file_extension": ".py",
   "mimetype": "text/x-python",
   "name": "python",
   "nbconvert_exporter": "python",
   "pygments_lexer": "ipython3",
   "version": "3.8.5"
  }
 },
 "nbformat": 4,
 "nbformat_minor": 4
}
